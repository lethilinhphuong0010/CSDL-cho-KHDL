{
 "cells": [
  {
   "cell_type": "markdown",
   "id": "1106c36a-5411-4188-afa2-cc2fccbd6de5",
   "metadata": {},
   "source": [
    "**BÀI TẬP CHƯƠNG 3**"
   ]
  },
  {
   "cell_type": "markdown",
   "id": "cc4086ee-4610-48a4-9bda-d6774f1f3145",
   "metadata": {},
   "source": [
    "**Bài 1: Hãy viết câu lệnh SQL để tính sự tương quan giữa A và B**"
   ]
  },
  {
   "cell_type": "code",
   "execution_count": 7,
   "id": "8940074b-3b12-4fe4-9530-8908e6d730df",
   "metadata": {},
   "outputs": [
    {
     "data": {
      "text/plain": [
       "<sqlite3.Cursor at 0x1510b31bec0>"
      ]
     },
     "execution_count": 7,
     "metadata": {},
     "output_type": "execute_result"
    }
   ],
   "source": [
    "import sqlite3\n",
    "\n",
    "# Tạo kết nối tới database SQLite (tạo mới hoặc mở database đã có)\n",
    "conn = sqlite3.connect('samplee.db')\n",
    "cursor = conn.cursor()\n",
    "\n",
    "# Tạo bảng data_table với 2 cột A và B\n",
    "cursor.execute('''\n",
    "CREATE TABLE IF NOT EXISTS data_table (\n",
    "    A REAL,\n",
    "    B REAL\n",
    ");\n",
    "''')\n",
    "\n",
    "# Chèn dữ liệu mẫu (nếu chưa có dữ liệu)\n",
    "sample_data = [(2, 4), (3, 6), (5, 8), (7, 10), (9, 14)]\n",
    "cursor.executemany('INSERT INTO data_table (A, B) VALUES (?, ?)', sample_data)"
   ]
  },
  {
   "cell_type": "code",
   "execution_count": 5,
   "id": "c0153960-bcbc-4c35-90b7-0c349175aa86",
   "metadata": {},
   "outputs": [
    {
     "name": "stdout",
     "output_type": "stream",
     "text": [
      "Hệ số tương quan giữa A và B: 0.9894382924043013\n"
     ]
    }
   ],
   "source": [
    "import math\n",
    "\n",
    "# Kết nối database\n",
    "conn = sqlite3.connect('samplee.db')\n",
    "\n",
    "conn.create_function(\"SQRT\", 1, math.sqrt)\n",
    "\n",
    "cursor = conn.cursor()\n",
    "\n",
    "# Truy vấn tính hệ số tương quan\n",
    "query = '''\n",
    "SELECT\n",
    "    (COUNT(*) * SUM(A*B) - SUM(A)*SUM(B)) / (\n",
    "        SQRT(COUNT(*)*SUM(A*A) - SUM(A)*SUM(A)) *\n",
    "        SQRT(COUNT(*)*SUM(B*B) - SUM(B)*SUM(B))\n",
    "    ) AS correlation_AB\n",
    "FROM data_table;\n",
    "'''\n",
    "\n",
    "cursor.execute(query)\n",
    "result = cursor.fetchone()\n",
    "\n",
    "print(\"Hệ số tương quan giữa A và B:\", result[0])"
   ]
  },
  {
   "cell_type": "markdown",
   "id": "d329b4b1-93e0-4456-9a4a-b38150b38875",
   "metadata": {},
   "source": [
    "**Bài 2: Chuyển đổi dữ liệu sang dạng quan hệ và thực hiện kiểm định**"
   ]
  },
  {
   "cell_type": "markdown",
   "id": "cde61789-3a39-4853-ba72-5c40213e3917",
   "metadata": {},
   "source": [
    "Chuyển đổi dữ liệu sang dạng quan hệ "
   ]
  },
  {
   "cell_type": "code",
   "execution_count": 75,
   "id": "9484d860-9e9a-41fc-9424-47b2ca8203c9",
   "metadata": {},
   "outputs": [
    {
     "name": "stdout",
     "output_type": "stream",
     "text": [
      "      Day Car  Score\n",
      "0   Day 1   A    8.0\n",
      "1   Day 1   B    9.0\n",
      "2   Day 1   C    7.0\n",
      "3   Day 2   A    7.5\n",
      "4   Day 2   B    8.5\n",
      "5   Day 2   C    7.0\n",
      "6   Day 3   A    6.0\n",
      "7   Day 3   B    7.0\n",
      "8   Day 3   C    8.0\n",
      "9   Day 4   A    7.0\n",
      "10  Day 4   B    6.0\n",
      "11  Day 4   C    5.0\n"
     ]
    }
   ],
   "source": [
    "import sqlite3\n",
    "import pandas as pd\n",
    "\n",
    "# Kết nối database SQLite\n",
    "conn = sqlite3.connect('car_scores.db')\n",
    "cursor = conn.cursor()\n",
    "\n",
    "# Tạo bảng car_scores\n",
    "cursor.execute('''\n",
    "CREATE TABLE IF NOT EXISTS car_scores (\n",
    "    Day VARCHAR(10),\n",
    "    Car VARCHAR(1),\n",
    "    Score FLOAT\n",
    ");\n",
    "''')\n",
    "\n",
    "# Chèn dữ liệu vào bảng\n",
    "cursor.executemany('''\n",
    "INSERT INTO car_scores (Day, Car, Score) VALUES (?, ?, ?)\n",
    "''', [\n",
    "    ('Day 1', 'A', 8),\n",
    "    ('Day 1', 'B', 9),\n",
    "    ('Day 1', 'C', 7),\n",
    "    ('Day 2', 'A', 7.5),\n",
    "    ('Day 2', 'B', 8.5),\n",
    "    ('Day 2', 'C', 7),\n",
    "    ('Day 3', 'A', 6),\n",
    "    ('Day 3', 'B', 7),\n",
    "    ('Day 3', 'C', 8),\n",
    "    ('Day 4', 'A', 7),\n",
    "    ('Day 4', 'B', 6),\n",
    "    ('Day 4', 'C', 5)\n",
    "])\n",
    "\n",
    "# Thực hiện câu lệnh SELECT\n",
    "df = pd.read_sql_query('SELECT * FROM car_scores', conn)\n",
    "print(df)\n",
    "\n",
    "conn.commit()"
   ]
  },
  {
   "cell_type": "code",
   "execution_count": 77,
   "id": "514938d4-597d-4f2b-a7d7-cb1118cf5515",
   "metadata": {},
   "outputs": [
    {
     "name": "stdout",
     "output_type": "stream",
     "text": [
      "Dữ liệu sau khi thêm cột Category:\n",
      "      Day Car  Score Category\n",
      "0   Day 1   A    8.0   Medium\n",
      "1   Day 1   B    9.0     High\n",
      "2   Day 1   C    7.0   Medium\n",
      "3   Day 2   A    7.5   Medium\n",
      "4   Day 2   B    8.5     High\n",
      "5   Day 2   C    7.0   Medium\n",
      "6   Day 3   A    6.0      Low\n",
      "7   Day 3   B    7.0   Medium\n",
      "8   Day 3   C    8.0   Medium\n",
      "9   Day 4   A    7.0   Medium\n",
      "10  Day 4   B    6.0      Low\n",
      "11  Day 4   C    5.0      Low\n",
      "\n",
      "Bảng tần suất Car và Category :\n",
      "  Car Category  Frequency\n",
      "0   A      Low          1\n",
      "1   A   Medium          3\n",
      "2   B     High          2\n",
      "3   B      Low          1\n",
      "4   B   Medium          1\n",
      "5   C      Low          1\n",
      "6   C   Medium          3\n",
      "\n",
      " Bảng tần suất Day và  Category:\n",
      "     Day Category  Frequency\n",
      "0  Day 1     High          1\n",
      "1  Day 1   Medium          2\n",
      "2  Day 2     High          1\n",
      "3  Day 2   Medium          2\n",
      "4  Day 3      Low          1\n",
      "5  Day 3   Medium          2\n",
      "6  Day 4      Low          2\n",
      "7  Day 4   Medium          1\n"
     ]
    }
   ],
   "source": [
    "# Kết nối database SQLite\n",
    "conn = sqlite3.connect('car_scores.db')\n",
    "cursor = conn.cursor()\n",
    "\n",
    "# Thực hiện câu lệnh SELECT và tạo thêm cột Category\n",
    "df_category = pd.read_sql_query('''\n",
    "SELECT \n",
    "    Day,\n",
    "    Car,\n",
    "    Score,\n",
    "    CASE \n",
    "        WHEN Score <= 6 THEN 'Low'\n",
    "        WHEN Score <= 8 THEN 'Medium'\n",
    "        ELSE 'High'\n",
    "    END AS Category\n",
    "FROM car_scores;\n",
    "''', conn)\n",
    "print(\"Dữ liệu sau khi thêm cột Category:\")\n",
    "print(df_category)\n",
    "\n",
    "# Bảng tần suất của Car và Category \n",
    "df_car_freq = pd.read_sql_query('''\n",
    "SELECT \n",
    "    Car,\n",
    "    Category,\n",
    "    COUNT(*) AS Frequency\n",
    "FROM (\n",
    "    SELECT \n",
    "        Car,\n",
    "        CASE \n",
    "            WHEN Score <= 6 THEN 'Low'\n",
    "            WHEN Score <= 8 THEN 'Medium'\n",
    "            ELSE 'High'\n",
    "        END AS Category\n",
    "    FROM car_scores\n",
    ") AS sub\n",
    "GROUP BY Car, Category\n",
    "ORDER BY Car, Category;\n",
    "''', conn)\n",
    "print(\"\\nBảng tần suất Car và Category :\")\n",
    "print(df_car_freq)\n",
    "\n",
    "# Bảng tần suất của Day và Category \n",
    "df_day_freq = pd.read_sql_query('''\n",
    "SELECT \n",
    "    Day,\n",
    "    CASE \n",
    "        WHEN Score <= 6 THEN 'Low'\n",
    "        WHEN Score <= 8 THEN 'Medium'\n",
    "        ELSE 'High'\n",
    "    END AS Category,\n",
    "    COUNT(*) AS Frequency\n",
    "FROM car_scores\n",
    "GROUP BY Day, Category\n",
    "ORDER BY Day, Category;\n",
    "''', conn)\n",
    "print(\"\\n Bảng tần suất Day và  Category:\")\n",
    "print(df_day_freq)"
   ]
  },
  {
   "cell_type": "markdown",
   "id": "044018bc-2aad-402b-8326-bfd9b1a1edda",
   "metadata": {},
   "source": [
    "Thực hiện kiểm định "
   ]
  },
  {
   "cell_type": "code",
   "execution_count": 53,
   "id": "7c4ca377-4f87-49a5-9413-cbbd437ea562",
   "metadata": {},
   "outputs": [
    {
     "name": "stdout",
     "output_type": "stream",
     "text": [
      "Bảng tần suất (Car vs Category):\n",
      " Category  High  Low  Medium\n",
      "Car                        \n",
      "A          0.0  1.0     3.0\n",
      "B          2.0  1.0     1.0\n",
      "C          0.0  1.0     3.0\n",
      "\n",
      "Kết quả kiểm định Chi-square cho Car:\n",
      "Chi2 statistic = 5.1429\n",
      "p-value = 0.2730\n",
      "\n",
      "Bảng tần suất (Day vs Category):\n",
      " Category  High  Low  Medium\n",
      "Day                        \n",
      "Day 1      1.0  0.0     2.0\n",
      "Day 2      1.0  0.0     2.0\n",
      "Day 3      0.0  1.0     2.0\n",
      "Day 4      0.0  2.0     1.0\n",
      "\n",
      "Kết quả kiểm định Chi-square cho Day:\n",
      "Chi2 statistic = 6.0952\n",
      "p-value = 0.4126\n"
     ]
    }
   ],
   "source": [
    "from scipy.stats import chi2_contingency\n",
    "\n",
    "# Dữ liệu Car vs Category\n",
    "car_data = pd.DataFrame({\n",
    "    'Car': ['A', 'A', 'B', 'B', 'B', 'C', 'C'],\n",
    "    'Category': ['Low', 'Medium', 'High', 'Low', 'Medium', 'Low', 'Medium'],\n",
    "    'Frequency': [1, 3, 2, 1, 1, 1, 3]\n",
    "})\n",
    "\n",
    "car_table = car_data.pivot_table(index='Car', columns='Category', values='Frequency', fill_value=0)\n",
    "print(\"Bảng tần suất (Car vs Category):\\n\", car_table)\n",
    "\n",
    "# Thực hiện kiểm định Chi bình phương\n",
    "chi2_car, p_car, dof_car, expected_car = chi2_contingency(car_table)\n",
    "print(\"\\nKết quả kiểm định Chi-square cho Car:\")\n",
    "print(f\"Chi2 statistic = {chi2_car:.4f}\")\n",
    "print(f\"p-value = {p_car:.4f}\")\n",
    "\n",
    "# Dữ liệu Day vs Category\n",
    "day_data = pd.DataFrame({\n",
    "    'Day': ['Day 1', 'Day 1', 'Day 2', 'Day 2', 'Day 3', 'Day 3', 'Day 4', 'Day 4'],\n",
    "    'Category': ['High', 'Medium', 'High', 'Medium', 'Low', 'Medium', 'Low', 'Medium'],\n",
    "    'Frequency': [1, 2, 1, 2, 1, 2, 2, 1]\n",
    "})\n",
    "\n",
    "day_table = day_data.pivot_table(index='Day', columns='Category', values='Frequency', fill_value=0)\n",
    "print(\"\\nBảng tần suất (Day vs Category):\\n\", day_table)\n",
    "\n",
    "# Thực hiện kiểm định Chi bình phương\n",
    "chi2_day, p_day, dof_day, expected_day = chi2_contingency(day_table)\n",
    "print(\"\\nKết quả kiểm định Chi-square cho Day:\")\n",
    "print(f\"Chi2 statistic = {chi2_day:.4f}\")\n",
    "print(f\"p-value = {p_day:.4f}\")"
   ]
  },
  {
   "cell_type": "markdown",
   "id": "aa13591f-700f-4bf7-ac49-db1191972451",
   "metadata": {},
   "source": [
    "- Dựa trên kiểm định Chi bình phương giữa các mẫu xe và phân loại điểm số, kết quả cho thấy không có sự khác biệt giữa các mẫu A, B, và C trong suốt 4 ngày thử nghiệm (vì p = 0.273 > 0.05).\n",
    "- Kết quả thử nghiệm không phụ thuộc vào ngày cũng không phụ thuộc vào mẫu xe (vì cả hai p-value đều > 0.05)"
   ]
  },
  {
   "cell_type": "markdown",
   "id": "0900ca1e-15a8-436a-a7f4-0105b6af22dc",
   "metadata": {},
   "source": [
    "**Bài 3: Chuyển đổi các giá trị này thành định dạng thời gian**"
   ]
  },
  {
   "cell_type": "code",
   "execution_count": 21,
   "id": "950c572b-6206-42c5-8d04-83ae7e0d4816",
   "metadata": {},
   "outputs": [
    {
     "name": "stdout",
     "output_type": "stream",
     "text": [
      "\n",
      "Dữ liệu ban đầu:\n",
      "   id  departure_time\n",
      "0   1             830\n",
      "1   2            1445\n",
      "2   3              30\n",
      "3   4               0\n",
      "4   5            2359\n",
      "\n",
      "Dữ liệu sau khi thêm departure_time_converted:\n",
      "   id  departure_time departure_time_converted\n",
      "0   1             830                    08:30\n",
      "1   2            1445                    14:45\n",
      "2   3              30                    00:30\n",
      "3   4               0                    00:00\n",
      "4   5            2359                    23:59\n"
     ]
    }
   ],
   "source": [
    "# Kết nối database SQLite\n",
    "conn = sqlite3.connect('Fflights.db')\n",
    "cursor = conn.cursor()\n",
    "\n",
    "# Tạo bảng flights\n",
    "cursor.execute('''\n",
    "CREATE TABLE Fflights (\n",
    "    id INT PRIMARY KEY,\n",
    "    departure_time INT\n",
    ");\n",
    "''')\n",
    "\n",
    "# Thêm dữ liệu mẫu\n",
    "cursor.executemany('''\n",
    "INSERT INTO Fflights (id, departure_time) VALUES (?, ?)''', [\n",
    "    (1, 830),\n",
    "    (2, 1445),\n",
    "    (3, 30),\n",
    "    (4, 0),\n",
    "    (5, 2359)\n",
    "])\n",
    "\n",
    "# Hiển thị dữ liệu ban đầu\n",
    "print(\"\\nDữ liệu ban đầu:\")\n",
    "df_before = pd.read_sql_query('SELECT * FROM Fflights', conn)\n",
    "print(df_before)\n",
    "\n",
    "# Thêm cột departure_time_converted\n",
    "cursor.execute('''\n",
    "ALTER TABLE Fflights ADD COLUMN departure_time_converted TEXT;\n",
    "''')\n",
    "\n",
    "# Cập nhật giá trị cho cột mới\n",
    "cursor.execute('''\n",
    "UPDATE Fflights\n",
    "SET departure_time_converted = \n",
    "  SUBSTR('0000' || departure_time, -4, 2) || ':' || SUBSTR('0000' || departure_time, -2, 2);\n",
    "''')\n",
    "\n",
    "# Hiển thị dữ liệu sau khi cập nhật\n",
    "print(\"\\nDữ liệu sau khi thêm departure_time_converted:\")\n",
    "df_after = pd.read_sql_query('SELECT * FROM Fflights', conn)\n",
    "print(df_after)"
   ]
  },
  {
   "cell_type": "markdown",
   "id": "c35037e9-4460-4d82-b27d-8b4145a1acf2",
   "metadata": {},
   "source": [
    "**Bài 4: Viết truy vấn SQL để tìm các ngoại lệ bằng cách sử dụng MAD**"
   ]
  },
  {
   "cell_type": "code",
   "execution_count": 45,
   "id": "4d2e01f4-bda9-4d4b-a27c-ab4778c08107",
   "metadata": {},
   "outputs": [
    {
     "name": "stdout",
     "output_type": "stream",
     "text": [
      "\n",
      "Dữ liệu bảng Sales:\n",
      "   id  sale_amount\n",
      "0   1          100\n",
      "1   2          110\n",
      "2   3           95\n",
      "3   4          105\n",
      "4   5          120\n",
      "5   6          300\n",
      "6   7           98\n",
      "7   8          102\n"
     ]
    }
   ],
   "source": [
    "# Kết nối SQLite\n",
    "conn = sqlite3.connect('SAless.db')\n",
    "cursor = conn.cursor()\n",
    "\n",
    "# Tạo bảng sales\n",
    "cursor.execute('''\n",
    "CREATE TABLE SAless (\n",
    "    id INTEGER PRIMARY KEY,\n",
    "    sale_amount INTEGER\n",
    ");\n",
    "''')\n",
    "\n",
    "# Chèn dữ liệu\n",
    "cursor.executemany('''\n",
    "INSERT INTO SAless (id, sale_amount) VALUES (?, ?)''', [\n",
    "    (1, 100),\n",
    "    (2, 110),\n",
    "    (3, 95),\n",
    "    (4, 105),\n",
    "    (5, 120),\n",
    "    (6, 300),\n",
    "    (7, 98),\n",
    "    (8, 102)\n",
    "])\n",
    "\n",
    "# Hiển thị dữ liệu ban đầu\n",
    "print(\"\\nDữ liệu bảng Sales:\")\n",
    "df_sales = pd.read_sql_query('SELECT * FROM SAless', conn)\n",
    "print(df_sales)\n",
    "\n",
    "conn.commit()"
   ]
  },
  {
   "cell_type": "code",
   "execution_count": 47,
   "id": "e735414f-bf87-483e-b005-f7afd7b30ca8",
   "metadata": {},
   "outputs": [
    {
     "name": "stdout",
     "output_type": "stream",
     "text": [
      "\n",
      "Median: 103.5\n"
     ]
    }
   ],
   "source": [
    "# Tính median bằng SQL\n",
    "query_median = '''\n",
    "SELECT AVG(sale_amount) AS median\n",
    "FROM (\n",
    "  SELECT sale_amount\n",
    "  FROM SAless\n",
    "  ORDER BY sale_amount\n",
    "  LIMIT 2 - (SELECT COUNT(*) FROM SAless) % 2\n",
    "  OFFSET (SELECT (COUNT(*) - 1) / 2 FROM SAless)\n",
    ");\n",
    "'''\n",
    "df_median = pd.read_sql_query(query_median, conn)\n",
    "median = df_median[\"median\"][0]\n",
    "print(\"\\nMedian:\", median)"
   ]
  },
  {
   "cell_type": "code",
   "execution_count": 49,
   "id": "733765ca-f13e-4e0d-858f-e1931ee3fe36",
   "metadata": {},
   "outputs": [
    {
     "name": "stdout",
     "output_type": "stream",
     "text": [
      "MAD: 6.0\n"
     ]
    }
   ],
   "source": [
    "# Tính MAD bằng SQL\n",
    "query_mad = f'''\n",
    "SELECT AVG(abs_diff) AS mad\n",
    "FROM (\n",
    "  SELECT ABS(sale_amount - {median}) AS abs_diff\n",
    "  FROM SAless\n",
    "  ORDER BY abs_diff\n",
    "  LIMIT CASE WHEN (SELECT COUNT(*) FROM SAless) % 2 = 0 THEN 2 ELSE 1 END\n",
    "  OFFSET (SELECT (COUNT(*) - 1) / 2 FROM SAless)\n",
    ");\n",
    "'''\n",
    "\n",
    "df_mad = pd.read_sql_query(query_mad, conn)\n",
    "mad = df_mad[\"mad\"][0]\n",
    "print(\"MAD:\", mad)"
   ]
  },
  {
   "cell_type": "code",
   "execution_count": 51,
   "id": "a5ca1365-2011-4318-ac92-d9b8073c2724",
   "metadata": {},
   "outputs": [
    {
     "name": "stdout",
     "output_type": "stream",
     "text": [
      "\n",
      "Các giá trị ngoại lệ (dựa trên 1.5 * MAD):\n",
      "   id  sale_amount\n",
      "0   5          120\n",
      "1   6          300\n"
     ]
    }
   ],
   "source": [
    "# Tìm ngoại lệ\n",
    "threshold = 1.5 * mad\n",
    "query_outliers = f'''\n",
    "SELECT *\n",
    "FROM SAless\n",
    "WHERE ABS(sale_amount - {median}) > {threshold};\n",
    "'''\n",
    "df_outliers = pd.read_sql_query(query_outliers, conn)\n",
    "print(\"\\nCác giá trị ngoại lệ (dựa trên 1.5 * MAD):\")\n",
    "print(df_outliers)"
   ]
  },
  {
   "cell_type": "markdown",
   "id": "586f19d3-84af-406f-8bbe-130dfa2f856d",
   "metadata": {},
   "source": [
    "**Bài 5: Xác định liệu 2 người trong bảng patient có phải là một người hay không?**"
   ]
  },
  {
   "cell_type": "code",
   "execution_count": 39,
   "id": "64c753d0-d1b6-4235-96e5-0a000cae562d",
   "metadata": {},
   "outputs": [
    {
     "name": "stdout",
     "output_type": "stream",
     "text": [
      "\n",
      "Dữ liệu mẫu từ bảng Patients:\n",
      "   id last_name  weight  height\n",
      "0   1    Nguyen      60     165\n",
      "1   2    Nguyen      61     165\n",
      "2   3      Tran      55     160\n",
      "3   4    Nguyen      72     170\n",
      "4   5      Tran      55     159\n",
      "5   6        Le      65     168\n",
      "\n",
      "Các cặp bệnh nhân có khả năng là cùng người:\n",
      "   id1  id2   name1   name2  weight1  weight2  match_score\n",
      "0    1    2  Nguyen  Nguyen       60       61            2\n",
      "1    3    5    Tran    Tran       55       55            2\n"
     ]
    }
   ],
   "source": [
    "# Kết nối SQLite\n",
    "conn = sqlite3.connect('patients.db')\n",
    "cursor = conn.cursor()\n",
    "\n",
    "# Tạo bảng Patient\n",
    "cursor.execute('''\n",
    "CREATE TABLE patients (\n",
    "    id INTEGER PRIMARY KEY,\n",
    "    last_name TEXT,\n",
    "    weight INTEGER,\n",
    "    height INTEGER\n",
    ");\n",
    "''')\n",
    "\n",
    "# Chèn dữ liệu mẫu\n",
    "cursor.executemany('''\n",
    "INSERT INTO patients (id, last_name, weight, height) VALUES (?, ?, ?, ?)''', [\n",
    "    (1, 'Nguyen', 60, 165),\n",
    "    (2, 'Nguyen', 61, 165),\n",
    "    (3, 'Tran', 55, 160),\n",
    "    (4, 'Nguyen', 72, 170),\n",
    "    (5, 'Tran', 55, 159),\n",
    "    (6, 'Le', 65, 168)\n",
    "])\n",
    "\n",
    "# In bảng dữ liệu mẫu\n",
    "print(\"\\nDữ liệu mẫu từ bảng Patients:\")\n",
    "df_patients = pd.read_sql_query('SELECT * FROM patients', conn)\n",
    "print(df_patients)\n",
    "\n",
    "# Truy vấn tính điểm Boolean\n",
    "query = '''\n",
    "SELECT \n",
    "    p1.id AS id1, p2.id AS id2,\n",
    "    p1.last_name AS name1, p2.last_name AS name2,\n",
    "    p1.weight AS weight1, p2.weight AS weight2,\n",
    "    \n",
    "    (CASE WHEN p1.last_name = p2.last_name THEN 1 ELSE 0 END) +\n",
    "    (CASE WHEN ABS(p1.weight - p2.weight) <= 2 THEN 1 ELSE 0 END) AS match_score\n",
    "\n",
    "FROM patients p1\n",
    "JOIN patients p2 ON p1.id < p2.id\n",
    "WHERE\n",
    "    (p1.last_name = p2.last_name) AND (ABS(p1.weight - p2.weight) <= 2);\n",
    "'''\n",
    "\n",
    "df_matches = pd.read_sql_query(query, conn)\n",
    "print(\"\\nCác cặp bệnh nhân có khả năng là cùng người:\")\n",
    "print(df_matches)"
   ]
  },
  {
   "cell_type": "code",
   "execution_count": null,
   "id": "139c4ddf-6a21-46c4-8607-52687bfbb5da",
   "metadata": {},
   "outputs": [],
   "source": []
  }
 ],
 "metadata": {
  "kernelspec": {
   "display_name": "Python [conda env:anaconda3] *",
   "language": "python",
   "name": "conda-env-anaconda3-py"
  },
  "language_info": {
   "codemirror_mode": {
    "name": "ipython",
    "version": 3
   },
   "file_extension": ".py",
   "mimetype": "text/x-python",
   "name": "python",
   "nbconvert_exporter": "python",
   "pygments_lexer": "ipython3",
   "version": "3.12.7"
  }
 },
 "nbformat": 4,
 "nbformat_minor": 5
}
